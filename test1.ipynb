{
 "cells": [
  {
   "cell_type": "markdown",
   "source": [
    "***TEST 1 - BARRAS Célia***"
   ],
   "metadata": {}
  },
  {
   "cell_type": "markdown",
   "source": [
    "**Import of modules**"
   ],
   "metadata": {}
  },
  {
   "cell_type": "code",
   "execution_count": 133,
   "source": [
    "import os\r\n",
    "import struct\r\n",
    "import gzip\r\n",
    "import numpy as np"
   ],
   "outputs": [],
   "metadata": {}
  },
  {
   "cell_type": "markdown",
   "source": [
    "**3 functions to be able to calculate the accuracy of the model**"
   ],
   "metadata": {}
  },
  {
   "cell_type": "code",
   "execution_count": 134,
   "source": [
    "#1st function : the MSE \r\n",
    "def MSE(y, y_pred):\r\n",
    "    mse = 0\r\n",
    "    i = 0\r\n",
    "\r\n",
    "    # to browse the array of y\r\n",
    "    while(i < y.size):\r\n",
    "        mse = mse + (y_pred[i] - y[i])**2   # mathematical function of the mse\r\n",
    "        i = i+1\r\n",
    "\r\n",
    "    return (mse/i)      # to divide by i to get the average "
   ],
   "outputs": [],
   "metadata": {}
  },
  {
   "cell_type": "code",
   "execution_count": 135,
   "source": [
    "#2nd function : to estimate the convergence curve of the output of the MSE function\n",
    "def logloss(y, y_pred):\n",
    "    hp = 0\n",
    "    i = 0\n",
    "    y_pred = np.clip(y_pred, a_min=10**-5, a_max=1-10**-5)\n",
    "    # to browse the array of y\n",
    "    while(i < y.size):\n",
    "        hp = hp + ( y[i] * np.log(y_pred[i]) + (1-y[i]) * np.log(1 - y_pred[i]))    # mathematical function\n",
    "        i = i + 1\n",
    "\n",
    "    return (hp/i)*-1       # divide to get the average"
   ],
   "outputs": [],
   "metadata": {}
  },
  {
   "cell_type": "code",
   "execution_count": 136,
   "source": [
    "# 3rd function : the accuracy function\n",
    "# we want the number of good response (where y_pred == y)\n",
    "def accuracy(y, y_pred):\n",
    "    i = 0\n",
    "    count = 0\n",
    "\n",
    "    # to browse the array of y\n",
    "    while(i < y.size) :\n",
    "        if(y[i] == y_pred[i]):  # condition of a good response\n",
    "            count = count +1\n",
    "        i = i+1\n",
    "\n",
    "    return count/y.size     # to obtain the proportion"
   ],
   "outputs": [],
   "metadata": {}
  },
  {
   "cell_type": "markdown",
   "source": [
    "**Download of the data**"
   ],
   "metadata": {}
  },
  {
   "cell_type": "code",
   "execution_count": 137,
   "source": [
    "# association of each of the labels with a different number\n",
    "labels={\n",
    " 0:'T-shirt/top',\n",
    " 1:'Trouser',\n",
    " 2:'Pullover',\n",
    " 3:'Dress',\n",
    " 4:'Coat',\n",
    " 5:'Sandal',\n",
    " 6:'Shirt',\n",
    " 7:'Sneaker',\n",
    " 8:'Bag',\n",
    " 9:'Ankle boot',\n",
    "}"
   ],
   "outputs": [],
   "metadata": {}
  },
  {
   "cell_type": "code",
   "execution_count": 138,
   "source": [
    "# function to load data \n",
    "# take as arguments : the path of the data fashion and the kind to be treated\n",
    "def load_mnist(path, kind='train'):\n",
    "\n",
    "    # Load MNIST data from `path`\n",
    "    labels_path = os.path.join(path,\n",
    "                               '%s-labels-idx1-ubyte.gz'\n",
    "                               % kind)\n",
    "    images_path = os.path.join(path,\n",
    "                               '%s-images-idx3-ubyte.gz'\n",
    "                               % kind)\n",
    "\n",
    "    # unzip data\n",
    "    with gzip.open(labels_path, 'rb') as lbpath:\n",
    "        struct.unpack('>II', lbpath.read(8))\n",
    "        labels = np.frombuffer(lbpath.read(), dtype=np.uint8)\n",
    "\n",
    "    with gzip.open(images_path, 'rb') as imgpath:\n",
    "        struct.unpack(\">IIII\", imgpath.read(16))\n",
    "        images = np.frombuffer(imgpath.read(), dtype=np.uint8).reshape(len(labels), 784)\n",
    "\n",
    "    return images, labels"
   ],
   "outputs": [],
   "metadata": {}
  },
  {
   "cell_type": "code",
   "execution_count": 139,
   "source": [
    "# using the function to store data in variables\n",
    "x_train, y_train = load_mnist(r'MNIST - ex\\data\\fashion', kind='train')     # data to train the model\n",
    "x_test, y_test = load_mnist(r'MNIST - ex\\data\\fashion', kind='t10k')        # data to test the model"
   ],
   "outputs": [],
   "metadata": {}
  },
  {
   "cell_type": "markdown",
   "source": [
    "The first row of variables in the cell below corresponds to the values ​​used for training the knn model, i.e. to teach the model to relate an input (x_train) to the output that corresponds to it (y_train).\n",
    "\n",
    "The second row of variables in the cell above corresponds to the values ​​that will be used to test the model once it is trained. We will enter the input data (x_test) and we will obtain a prediction (y_pred) that will have to be compared with the initial outputs (y_test). By comparing them, we will obtain the accuracy of the system."
   ],
   "metadata": {}
  },
  {
   "cell_type": "markdown",
   "source": [
    "**Use of the knn method**"
   ],
   "metadata": {}
  },
  {
   "cell_type": "code",
   "execution_count": 140,
   "source": [
    "# to train the model, we're using the KNN method \n",
    "from sklearn.neighbors import KNeighborsClassifier\n",
    "\n",
    "nn = KNeighborsClassifier(n_neighbors=3)\n",
    "nn.fit(x_train, y_train)"
   ],
   "outputs": [
    {
     "output_type": "execute_result",
     "data": {
      "text/plain": [
       "KNeighborsClassifier(n_neighbors=3)"
      ]
     },
     "metadata": {},
     "execution_count": 140
    }
   ],
   "metadata": {}
  },
  {
   "cell_type": "code",
   "execution_count": 141,
   "source": [
    "from sklearn.metrics import accuracy_score\n",
    "pred = nn.predict(x_test)          # using the library to predict results     \n",
    "\n",
    "# calcul of the accuracy\n",
    "print(accuracy_score(y_test, pred)) # using the library\n",
    "print(accuracy(y_test, pred))       # using my own function"
   ],
   "outputs": [
    {
     "output_type": "stream",
     "name": "stdout",
     "text": [
      "0.8541\n",
      "0.8541\n"
     ]
    }
   ],
   "metadata": {}
  },
  {
   "cell_type": "markdown",
   "source": [
    "We can observe that the two functions, the one provided by the library and the one I coded, give the same result (which is good news ...).\n",
    "\n",
    "To find what number to put as an argument of the KNeighborsClassifiers function (the number of neighbors), I started by testing with the number 10. Then I decreased that number by comparing the precision for each number of neighbors. \n",
    "- numbers of neighbors : accuracy \n",
    "- 10 : 0.815\n",
    "- 7 : 0.854\n",
    "- 5 : 0.8554\n",
    "- 3 : 0.8541   so the precision starts to decrease again when the number of neighbors is too small\n"
   ],
   "metadata": {}
  },
  {
   "cell_type": "markdown",
   "source": [
    "**Plot of 12 images**"
   ],
   "metadata": {}
  },
  {
   "cell_type": "code",
   "execution_count": 142,
   "source": [
    "# import of the necessary libraries \n",
    "from matplotlib import pyplot as plt,cm\n",
    "\n",
    "def show_img(im,figsize=None,ax=None,cmap=cm.binary):\n",
    "    if not ax: fig,ax = plt.subplots(figsize = figsize)\n",
    "    ax.imshow(im,cmap=cmap)\n",
    "    return ax"
   ],
   "outputs": [],
   "metadata": {}
  },
  {
   "cell_type": "code",
   "execution_count": 178,
   "source": [
    "fig, ax = plt.subplots(nrows=3, ncols=4)\n",
    "for i, axes in enumerate(ax.flat):\n",
    "    show_img(x_test[i].reshape([28,28]), ax=axes)\n",
    "    axes.set_title(labels[y_test[i]])\n",
    "fig.tight_layout()"
   ],
   "outputs": [
    {
     "output_type": "display_data",
     "data": {
      "image/png": "[encoded data removed]",
      "text/plain": [
       "<Figure size 432x288 with 12 Axes>"
      ]
     },
     "metadata": {
      "needs_background": "light"
     }
    }
   ],
   "metadata": {}
  },
  {
   "cell_type": "markdown",
   "source": [
    "**Training the model while reducing number of trained images**"
   ],
   "metadata": {}
  },
  {
   "cell_type": "code",
   "execution_count": 149,
   "source": [
    "np.random.seed()\n",
    "train_idx = np.random.permutation(2000)     # only 2000 trained images\n",
    "test_idx = np.random.permutation(1000)      # only 1000 images for testing\n",
    "\n",
    "x_train = x_train[train_idx]\n",
    "y_train = y_train[train_idx]\n",
    "x_test = x_test[test_idx]\n",
    "y_test = y_test[test_idx]\n",
    "\n",
    "nn.fit(x_train, y_train)        # fitting the model with less images"
   ],
   "outputs": [
    {
     "output_type": "execute_result",
     "data": {
      "text/plain": [
       "KNeighborsClassifier(n_neighbors=3)"
      ]
     },
     "metadata": {},
     "execution_count": 149
    }
   ],
   "metadata": {}
  },
  {
   "cell_type": "code",
   "execution_count": 163,
   "source": [
    "# accuracy\n",
    "pred = nn.predict(x_test)\n",
    "print(accuracy_score(y_test,pred))\n",
    "print(accuracy(y_test, pred))"
   ],
   "outputs": [
    {
     "output_type": "stream",
     "name": "stdout",
     "text": [
      "0.79\n",
      "0.79\n"
     ]
    }
   ],
   "metadata": {}
  },
  {
   "cell_type": "markdown",
   "source": [
    "It can be seen that the accuracy of the model has decreased compared to the test previously with more values. We conclude that to improve the precision, more values ​​are needed to train and test the model to learn more.\n",
    "In this case, the model will take much more time to be trained but the accuracy will be higher."
   ],
   "metadata": {}
  },
  {
   "cell_type": "markdown",
   "source": [
    "***Customized KNN***\n",
    "\n",
    "We will be using the class below this time to train the model."
   ],
   "metadata": {}
  },
  {
   "cell_type": "code",
   "execution_count": 154,
   "source": [
    "class CustomNearestNeighbor():\n",
    "\tdef __init__(self,k):\n",
    "\t\tself.k = k\n",
    "\t\tself.eps=1e-6\n",
    "\tdef fit(self,X,y=None):\n",
    "\t\tself.X_train = np.array(X)\n",
    "\t\tif y is not None:\n",
    "\t\t\tself.y_train = y\n",
    "\t\t\tself.n_classes = np.unique(y).shape[0]\n",
    "\t\t\t\n",
    "\tdef kneighbors(self,X):\n",
    "\t\t'''\n",
    "\t\tReturn sorted k distance and k indices of input X\n",
    "\t\t'''\n",
    "\t\tX = np.array(X)\n",
    "\t\tdist = np.zeros([len(X),self.k])\n",
    "\t\tidxs = np.zeros([len(X),self.k],dtype=int)\n",
    "\t\t#euclidian distance\n",
    "\t\tfor i,x in enumerate(X):\n",
    "\t\t\ttemp_dist = np.linalg.norm(x - self.X_train,axis=1)\n",
    "\t\t\tidxs[i] = (np.argsort(temp_dist)[:self.k])\n",
    "\t\t\tdist[i] = temp_dist[idxs[i]]      \n",
    "\t\treturn [dist,idxs]\n",
    "\tdef predict_classification(self,X_test,weighted=False):\n",
    "\t\tif not hasattr(self,'y_train'):\n",
    "\t\t\traise ValueError('y and n_class are undefined')\n",
    "\t\t\t\n",
    "\t\tdist,idxs = self.kneighbors(X_test)\n",
    "\t\tinv_dist = 1/(dist+ self.eps) # eps to avoid divided by 0\n",
    "\t\t\n",
    "\t\ty_pred = np.zeros(idxs.shape[0])\n",
    "\t\twc = np.zeros([idxs.shape[0],self.n_classes])\n",
    "\t\tclass_sorted = np.zeros([idxs.shape[0],self.n_classes],dtype=int)     \n",
    "\t\tfor i,idx in enumerate(idxs):\n",
    "\t\t\t# calculate weighted count (wc)\n",
    "\t\t\tclass_counter = np.bincount(self.y_train[idx],weights=inv_dist[i] if weighted else None,minlength=self.n_classes)\n",
    "\t\t\tclass_sorted[i] = (np.argsort(class_counter)[::-1])\n",
    "\t\t\twc[i] = class_counter\n",
    "\t\t\ty_pred[i]=class_sorted[i][0]\n",
    "\t\treturn y_pred,wc,class_sorted"
   ],
   "outputs": [],
   "metadata": {}
  },
  {
   "cell_type": "code",
   "execution_count": 155,
   "source": [
    "c_nn = CustomNearestNeighbor(k=10)\n",
    "c_nn.fit(x_train, y_train)"
   ],
   "outputs": [],
   "metadata": {}
  },
  {
   "cell_type": "code",
   "execution_count": 156,
   "source": [
    "y_pred,weighted_counter,class_sorted=c_nn.predict_classification(x_test,weighted=True)\n",
    "accuracy_score(y_test,y_pred)"
   ],
   "outputs": [
    {
     "output_type": "execute_result",
     "data": {
      "text/plain": [
       "0.556"
      ]
     },
     "metadata": {},
     "execution_count": 156
    }
   ],
   "metadata": {}
  },
  {
   "cell_type": "code",
   "execution_count": 157,
   "source": [
    "# we will use this function to plot 5 images and evaluate them\n",
    "def evaluate(idx):\n",
    " img = x_test[idx].reshape([28,28]) #28 bcz its the sqrt of the size 784\n",
    " plt.imshow(img,cmap=cm.binary)\n",
    " print(f'Weights (in order): {sorted(weighted_counter[idx],reverse=True)}')\n",
    " print(f'Predictions (in order): {[labels[i] for i in class_sorted[idx]]}')"
   ],
   "outputs": [],
   "metadata": {}
  },
  {
   "cell_type": "code",
   "execution_count": 158,
   "source": [
    "evaluate(5)\n",
    "# incorrect evaluation\n",
    "# Based on weighted_counter, my KNN classifier results in a close weight between Tshirt/top class and coat class\n",
    "# because of the accuracy is not at 100%, there are somme errors"
   ],
   "outputs": [
    {
     "output_type": "stream",
     "name": "stdout",
     "text": [
      "Weights (in order): [0.0020660640791188185, 0.0012772382807867408, 0.0008573704810425337, 0.0, 0.0, 0.0, 0.0, 0.0, 0.0, 0.0]\n",
      "Predictions (in order): ['T-shirt/top', 'Coat', 'Pullover', 'Ankle boot', 'Bag', 'Sneaker', 'Shirt', 'Sandal', 'Dress', 'Trouser']\n"
     ]
    },
    {
     "output_type": "display_data",
     "data": {
      "image/png": "[encoded data removed]",
      "text/plain": [
       "<Figure size 432x288 with 1 Axes>"
      ]
     },
     "metadata": {
      "needs_background": "light"
     }
    }
   ],
   "metadata": {}
  },
  {
   "cell_type": "code",
   "execution_count": 159,
   "source": [
    "evaluate(3)\n",
    "# Correct\n",
    "# Based on weighted_counter, my KNN classifier results in a weight to the class 8 (Bag)"
   ],
   "outputs": [
    {
     "output_type": "stream",
     "name": "stdout",
     "text": [
      "Weights (in order): [0.002683568993144012, 0.0003263219762916548, 0.00032268211616391846, 0.0, 0.0, 0.0, 0.0, 0.0, 0.0, 0.0]\n",
      "Predictions (in order): ['Bag', 'Ankle boot', 'Sandal', 'Sneaker', 'Shirt', 'Coat', 'Dress', 'Pullover', 'Trouser', 'T-shirt/top']\n"
     ]
    },
    {
     "output_type": "display_data",
     "data": {
      "image/png": "[encoded data removed]",
      "text/plain": [
       "<Figure size 432x288 with 1 Axes>"
      ]
     },
     "metadata": {
      "needs_background": "light"
     }
    }
   ],
   "metadata": {}
  },
  {
   "cell_type": "code",
   "execution_count": 160,
   "source": [
    "evaluate(8)\n",
    "# correct"
   ],
   "outputs": [
    {
     "output_type": "stream",
     "name": "stdout",
     "text": [
      "Weights (in order): [0.0032966399976896185, 0.0004020398501225665, 0.00039667635246579824, 0.0, 0.0, 0.0, 0.0, 0.0, 0.0, 0.0]\n",
      "Predictions (in order): ['Ankle boot', 'Shirt', 'Bag', 'Sneaker', 'Sandal', 'Coat', 'Dress', 'Pullover', 'Trouser', 'T-shirt/top']\n"
     ]
    },
    {
     "output_type": "display_data",
     "data": {
      "image/png": "[encoded data removed]",
      "text/plain": [
       "<Figure size 432x288 with 1 Axes>"
      ]
     },
     "metadata": {
      "needs_background": "light"
     }
    }
   ],
   "metadata": {}
  },
  {
   "cell_type": "code",
   "execution_count": 161,
   "source": [
    "evaluate(100)\n",
    "# correct"
   ],
   "outputs": [
    {
     "output_type": "stream",
     "name": "stdout",
     "text": [
      "Weights (in order): [0.002587723163570969, 0.0010501048725559195, 0.0010305344027380656, 0.000510812909387052, 0.0, 0.0, 0.0, 0.0, 0.0, 0.0]\n",
      "Predictions (in order): ['Sandal', 'Sneaker', 'Dress', 'Trouser', 'Ankle boot', 'Bag', 'Shirt', 'Coat', 'Pullover', 'T-shirt/top']\n"
     ]
    },
    {
     "output_type": "display_data",
     "data": {
      "image/png": "[encoded data removed]",
      "text/plain": [
       "<Figure size 432x288 with 1 Axes>"
      ]
     },
     "metadata": {
      "needs_background": "light"
     }
    }
   ],
   "metadata": {}
  }
 ],
 "metadata": {
  "interpreter": {
   "hash": "1db5d0c325ff140fb4530b654139fcb1b0541af6af39f24d01e32e44d285c955"
  },
  "kernelspec": {
   "name": "python3",
   "display_name": "Python 3.9.7 64-bit"
  },
  "language_info": {
   "codemirror_mode": {
    "name": "ipython",
    "version": 3
   },
   "file_extension": ".py",
   "mimetype": "text/x-python",
   "name": "python",
   "nbconvert_exporter": "python",
   "pygments_lexer": "ipython3",
   "version": "3.9.7"
  }
 },
 "nbformat": 4,
 "nbformat_minor": 2
}